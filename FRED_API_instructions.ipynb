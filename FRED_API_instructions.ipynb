{
 "cells": [
  {
   "cell_type": "markdown",
   "metadata": {},
   "source": [
    "# Welcome to FRED API Instructions\n",
    "\n",
    "## Table of Contents\n",
    "\n",
    "* What is FRED?\n",
    "* How can I access the API?\n",
    "* What can I use it for?"
   ]
  },
  {
   "cell_type": "markdown",
   "metadata": {},
   "source": [
    "# What is FRED?\n",
    "\n",
    "The Federal Reserve Bank of St. Louis' FRED (Federal Reserve Economic) database is made up of thousands of economic data time series. \n",
    "\n",
    "Website:https://fred.stlouisfed.org/\n",
    "About:https://fredhelp.stlouisfed.org/fred/about/about-fred/what-is-fred/\n",
    "API:https://fred.stlouisfed.org/docs/api/fred/"
   ]
  },
  {
   "cell_type": "markdown",
   "metadata": {},
   "source": [
    "# How can I access this data?\n",
    "\n",
    "The FRED API requires an API key, the first step is to follow the link above to the FRED website to  sign up and create an account. Once you have an account you can follow the link below to use your account to request an API key. Once you have the key you can jump to the code below for instructions on how to access the data.\n",
    "\n",
    "FRED API key request:https://fred.stlouisfed.org/docs/api/api_key.html"
   ]
  },
  {
   "cell_type": "code",
   "execution_count": 2,
   "metadata": {},
   "outputs": [
    {
     "name": "stdout",
     "output_type": "stream",
     "text": [
      "       id                                               name  parent_id  \\\n",
      "0      12       Current Population Survey (Household Survey)         10   \n",
      "1      11  Current Employment Statistics (Establishment S...         10   \n",
      "2   32250                                     ADP Employment         10   \n",
      "3   33500                                          Education         10   \n",
      "4   33001                                Income Distribution         10   \n",
      "5   32241            Job Openings and Labor Turnover (JOLTS)         10   \n",
      "6   33509                            Labor Market Conditions         10   \n",
      "7     104                                         Population         10   \n",
      "8       2                               Productivity & Costs         10   \n",
      "9   33831                                       Minimum Wage         10   \n",
      "10  32240                              Weekly Initial Claims         10   \n",
      "11  33731                                           Tax Data         10   \n",
      "\n",
      "                                                notes  \n",
      "0   The Current Population Survey (Household Surve...  \n",
      "1   The establishment survey provides data on empl...  \n",
      "2                                                 NaN  \n",
      "3                                                 NaN  \n",
      "4                                                 NaN  \n",
      "5                                                 NaN  \n",
      "6                                                 NaN  \n",
      "7                                                 NaN  \n",
      "8                                                 NaN  \n",
      "9                                                 NaN  \n",
      "10                                                NaN  \n",
      "11                                                NaN  \n"
     ]
    }
   ],
   "source": [
    "import requests\n",
    "import pandas as pd\n",
    "\n",
    "api_key= '### Enter your API key here ###'\n",
    "\n",
    "FRED_Categories = pd.DataFrame({\"name\":['Money, Banking, & Finance','Population, Employment, & Labor Markets', 'National Accounts', 'Production & Business Activity', 'Prices', 'International Data', 'U.S. Regional Data', 'Academic Data'],\n",
    "                                \"id\":[32991, 10, 32992, 1, 32455, 32263, 3008, 33060]})\n",
    "\n",
    "get_category = lambda FRED_Category_ID, APIKey: requests.get('https://api.stlouisfed.org/fred/category/children?category_id='+str(FRED_Category_ID) +'&api_key='+ APIKey + '&file_type=json').json()['categories']\n",
    "get_series = lambda FRED_Category_ID, APIKey: requests.get('https://api.stlouisfed.org/fred/category/series?category_id='+str(FRED_Category_ID) +'&api_key='+ APIKey + '&file_type=json').json()['seriess']\n",
    "get_observations = lambda FRED_Series_ID, APIKey: requests.get('https://api.stlouisfed.org/fred/series/observations?series_id='+str(FRED_Series_ID) +'&api_key='+ APIKey + '&file_type=json').json()['observations']\n",
    "get_scategories = lambda FRED_Series_ID, APIKey: requests.get('https://api.stlouisfed.org/fred/series/categories?series_id='+str(FRED_Series_ID) +'&api_key='+ APIKey + '&file_type=json').json()['categories']\n",
    "\n",
    "\n",
    "children = pd.DataFrame(get_category(FRED_Categories['id'][1], api_key))\n",
    "\n",
    "print(children)"
   ]
  },
  {
   "cell_type": "markdown",
   "metadata": {},
   "source": [
    "# What can I use it for?"
   ]
  },
  {
   "cell_type": "code",
   "execution_count": 8,
   "metadata": {},
   "outputs": [
    {
     "name": "stdout",
     "output_type": "stream",
     "text": [
      "Index(['id', 'name', 'parent_id', 'notes'], dtype='object')\n",
      "1. \n",
      "Civilian Labor Force\n",
      "Index(['id', 'realtime_start', 'realtime_end', 'title', 'observation_start',\n",
      "       'observation_end', 'frequency', 'frequency_short', 'units',\n",
      "       'units_short', 'seasonal_adjustment', 'seasonal_adjustment_short',\n",
      "       'last_updated', 'popularity', 'group_popularity', 'notes'],\n",
      "      dtype='object')\n",
      "2. \n",
      "Civilian Labor Force - Associate Degree - Academic Program, 16 to 17 years\n",
      "           realtime_start realtime_end value\n",
      "date                                        \n",
      "2000-10-01     2023-10-02   2023-10-02     3\n",
      "2000-11-01     2023-10-02   2023-10-02     .\n",
      "2000-12-01     2023-10-02   2023-10-02     .\n",
      "2001-01-01     2023-10-02   2023-10-02     .\n",
      "2001-02-01     2023-10-02   2023-10-02     .\n",
      "...                   ...          ...   ...\n",
      "2023-04-01     2023-10-02   2023-10-02     1\n",
      "2023-05-01     2023-10-02   2023-10-02     3\n",
      "2023-06-01     2023-10-02   2023-10-02     4\n",
      "2023-07-01     2023-10-02   2023-10-02     8\n",
      "2023-08-01     2023-10-02   2023-10-02    27\n",
      "\n",
      "[275 rows x 3 columns]\n"
     ]
    }
   ],
   "source": [
    "categories = pd.DataFrame(get_category(children['id'][0], api_key))\n",
    "\n",
    "print(categories.columns)\n",
    "print('1. ')\n",
    "print(categories['name'][0])\n",
    "\n",
    "series = pd.DataFrame(get_series( categories['id'][0], api_key))\n",
    "\n",
    "print(series.columns)\n",
    "print('2. ')\n",
    "print(series['title'][0])\n",
    "\n",
    "observations = pd.DataFrame(get_observations(series['id'][0] ,api_key))\n",
    "\n",
    "observations.index = observations['date']\n",
    "\n",
    "observations = observations.drop(columns='date')\n",
    "\n",
    "print(observations)"
   ]
  }
 ],
 "metadata": {
  "kernelspec": {
   "display_name": "Python 3",
   "language": "python",
   "name": "python3"
  },
  "language_info": {
   "codemirror_mode": {
    "name": "ipython",
    "version": 3
   },
   "file_extension": ".py",
   "mimetype": "text/x-python",
   "name": "python",
   "nbconvert_exporter": "python",
   "pygments_lexer": "ipython3",
   "version": "3.10.12"
  },
  "orig_nbformat": 4
 },
 "nbformat": 4,
 "nbformat_minor": 2
}
